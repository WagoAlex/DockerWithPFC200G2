{
 "cells": [
  {
   "cell_type": "code",
   "execution_count": 1,
   "metadata": {},
   "outputs": [],
   "source": [
    "myWagoCloudPassword='#Wagoseminar1'\n",
    "myWagoCloudLogin = 'seminare@wago.com'"
   ]
  },
  {
   "cell_type": "code",
   "execution_count": 2,
   "metadata": {
    "scrolled": true
   },
   "outputs": [
    {
     "name": "stdout",
     "output_type": "stream",
     "text": [
      "{\"succeed\":true,\"message\":\"\",\"resultCode\":0,\"result\":{\"jobId\":\"c22bc348-69bd-473c-95f9-22fbd65bd2fd\",\"jobName\":\"myCSV_ExportJob_2019_08_06\",\"dataExportConfig\":{\"intervalStart\":\"2019-08-06T07:00:00Z\",\"intervalEnd\":\"2019-08-06T18:00:00Z\",\"delimiter\":3,\"additionalProperty\":\"\",\"useDeviceTimezone\":false,\"tagExportHeader\":0,\"datetimeFormat\":\"MM/dd/yyyy HH:mm:ss.fff\",\"requester\":\"8e235523-df68-46b6-9d63-15256177ba62\",\"requesterName\":null,\"deviceReference\":{\"Device\":{\"id\":\"a759dfc5-1761-44bd-96f7-83f1370912bb\",\"tenantId\":\"9416533f-c17d-4578-90cf-42fae32d3fca\",\"name\":\"PFC_Training\",\"activationState\":1,\"address\":\"\",\"connectionState\":0,\"creationDate\":\"2019-07-29T08:21:03.7062228\",\"creator\":\"8e235523-df68-46b6-9d63-15256177ba62\",\"description\":\"\",\"enableState\":0,\"heartbeatInterval\":60000,\"heartbeatTimeout\":300000,\"telemetryTimeout\":86400000,\"protocolVersion\":\"1.3.0\",\"timezone\":0,\"latitude\":null,\"longitude\":null,\"configuraionHasError\":false,\"configuraionErrorMessage\":null,\"collectionGroups\":[{\"id\":\"23ecdd56-e117-4661-b962-86419fad3b58\",\"deviceId\":\"a759dfc5-1761-44bd-96f7-83f1370912bb\",\"sampleContent\":\"All\",\"samplingControl\":\"Cloud\",\"samplingIntervalType\":\"Equal\",\"tenantId\":\"9416533f-c17d-4578-90cf-42fae32d3fca\",\"name\":\"Office_Collection\",\"key\":\"1\",\"publishingRate\":60000,\"samplingRate\":30000,\"tags\":[{\"tagKey\":\"Coffee_Level\",\"tagType\":\"MeasuredValue\",\"displayName\":\"\",\"formatString\":\"#.0\",\"dataType\":9,\"id\":\"b894b8ec-813d-4265-9da8-e72376a1086b\",\"groupId\":\"23ecdd56-e117-4661-b962-86419fad3b58\",\"tenantId\":\"9416533f-c17d-4578-90cf-42fae32d3fca\",\"physicalUnit\":\"l\",\"groupKey\":\"1\",\"deviceId\":\"a759dfc5-1761-44bd-96f7-83f1370912bb\",\"typeId\":0,\"trueValueText\":\"\",\"falseValueText\":\"\",\"minValue\":null,\"maxValue\":null,\"lowerWarning\":null,\"lowerAlarm\":null,\"upperWarning\":null,\"upperAlarm\":null,\"properties\":[]},{\"tagKey\":\"Office_temperature\",\"tagType\":\"MeasuredValue\",\"displayName\":\"\",\"formatString\":\"#.0\",\"dataType\":9,\"id\":\"c76bd276-dbb5-451e-a753-079a673fa4b6\",\"groupId\":\"23ecdd56-e117-4661-b962-86419fad3b58\",\"tenantId\":\"9416533f-c17d-4578-90cf-42fae32d3fca\",\"physicalUnit\":\"C\",\"groupKey\":\"1\",\"deviceId\":\"a759dfc5-1761-44bd-96f7-83f1370912bb\",\"typeId\":0,\"trueValueText\":\"\",\"falseValueText\":\"\",\"minValue\":null,\"maxValue\":null,\"lowerWarning\":null,\"lowerAlarm\":null,\"upperWarning\":null,\"upperAlarm\":null,\"properties\":[]},{\"tagKey\":\"PFC_Type\",\"tagType\":\"MeasuredValue\",\"displayName\":\"\",\"formatString\":\"\",\"dataType\":0,\"id\":\"2e49dc30-1515-45aa-bc10-ae878837c8fb\",\"groupId\":\"23ecdd56-e117-4661-b962-86419fad3b58\",\"tenantId\":\"9416533f-c17d-4578-90cf-42fae32d3fca\",\"physicalUnit\":\"\",\"groupKey\":\"1\",\"deviceId\":\"a759dfc5-1761-44bd-96f7-83f1370912bb\",\"typeId\":0,\"trueValueText\":\"\",\"falseValueText\":\"\",\"minValue\":null,\"maxValue\":null,\"lowerWarning\":null,\"lowerAlarm\":null,\"upperWarning\":null,\"upperAlarm\":null,\"properties\":[]},{\"tagKey\":\"UtcTimestamp\",\"tagType\":\"MeasuredValue\",\"displayName\":\"Time\",\"formatString\":\"\",\"dataType\":12,\"id\":\"2ac32ef0-37f6-47d3-ac6e-fb645b18e6b8\",\"groupId\":\"23ecdd56-e117-4661-b962-86419fad3b58\",\"tenantId\":\"9416533f-c17d-4578-90cf-42fae32d3fca\",\"physicalUnit\":\"\",\"groupKey\":\"1\",\"deviceId\":\"a759dfc5-1761-44bd-96f7-83f1370912bb\",\"typeId\":1,\"trueValueText\":\"\",\"falseValueText\":\"\",\"minValue\":null,\"maxValue\":null,\"lowerWarning\":null,\"lowerAlarm\":null,\"upperWarning\":null,\"upperAlarm\":null,\"properties\":[]}],\"properties\":[],\"tagCount\":3},{\"id\":\"a578e340-0a50-4f88-a5e1-2ba585a13511\",\"deviceId\":\"a759dfc5-1761-44bd-96f7-83f1370912bb\",\"sampleContent\":\"Custom\",\"samplingControl\":\"IecOnly\",\"samplingIntervalType\":\"Unequal\",\"tenantId\":\"9416533f-c17d-4578-90cf-42fae32d3fca\",\"name\":\"MySecondCollection\",\"key\":\"2\",\"publishingRate\":60000,\"samplingRate\":0,\"tags\":[{\"tagKey\":\"UtcTimestamp\",\"tagType\":\"MeasuredValue\",\"displayName\":\"Time\",\"formatString\":\"\",\"dataType\":12,\"id\":\"15569521-e3cd-4460-aef8-f1728e355443\",\"groupId\":\"a578e340-0a50-4f88-a5e1-2ba585a13511\",\"tenantId\":\"9416533f-c17d-4578-90cf-42fae32d3fca\",\"physicalUnit\":\"\",\"groupKey\":\"2\",\"deviceId\":\"a759dfc5-1761-44bd-96f7-83f1370912bb\",\"typeId\":1,\"trueValueText\":\"\",\"falseValueText\":\"\",\"minValue\":null,\"maxValue\":null,\"lowerWarning\":null,\"lowerAlarm\":null,\"upperWarning\":null,\"upperAlarm\":null,\"properties\":[]},{\"tagKey\":\"var4_byte\",\"tagType\":\"MeasuredValue\",\"displayName\":\"\",\"formatString\":\"\",\"dataType\":1,\"id\":\"457efb4f-2d5f-434b-b21d-eec439132c81\",\"groupId\":\"a578e340-0a50-4f88-a5e1-2ba585a13511\",\"tenantId\":\"9416533f-c17d-4578-90cf-42fae32d3fca\",\"physicalUnit\":\"u3\",\"groupKey\":\"2\",\"deviceId\":\"a759dfc5-1761-44bd-96f7-83f1370912bb\",\"typeId\":0,\"trueValueText\":\"\",\"falseValueText\":\"\",\"minValue\":null,\"maxValue\":null,\"lowerWarning\":null,\"lowerAlarm\":null,\"upperWarning\":null,\"upperAlarm\":null,\"properties\":[]},{\"tagKey\":\"var5_bool\",\"tagType\":\"MeasuredValue\",\"displayName\":\"\",\"formatString\":\"\",\"dataType\":11,\"id\":\"ce0f6536-9f1b-4adb-a303-e1600cb10279\",\"groupId\":\"a578e340-0a50-4f88-a5e1-2ba585a13511\",\"tenantId\":\"9416533f-c17d-4578-90cf-42fae32d3fca\",\"physicalUnit\":\"u4\",\"groupKey\":\"2\",\"deviceId\":\"a759dfc5-1761-44bd-96f7-83f1370912bb\",\"typeId\":0,\"trueValueText\":\"\",\"falseValueText\":\"\",\"minValue\":null,\"maxValue\":null,\"lowerWarning\":null,\"lowerAlarm\":null,\"upperWarning\":null,\"upperAlarm\":null,\"properties\":[]},{\"tagKey\":\"var6_real\",\"tagType\":\"MeasuredValue\",\"displayName\":\"\",\"formatString\":\"\",\"dataType\":9,\"id\":\"bf09ea37-0a8b-4195-9cfd-8416f74e11ec\",\"groupId\":\"a578e340-0a50-4f88-a5e1-2ba585a13511\",\"tenantId\":\"9416533f-c17d-4578-90cf-42fae32d3fca\",\"physicalUnit\":\"u5\",\"groupKey\":\"2\",\"deviceId\":\"a759dfc5-1761-44bd-96f7-83f1370912bb\",\"typeId\":0,\"trueValueText\":\"\",\"falseValueText\":\"\",\"minValue\":null,\"maxValue\":null,\"lowerWarning\":null,\"lowerAlarm\":null,\"upperWarning\":null,\"upperAlarm\":null,\"properties\":[]}],\"properties\":[],\"tagCount\":3},{\"id\":\"2c42e566-34f6-419e-9be0-80bb4557a8f5\",\"deviceId\":\"a759dfc5-1761-44bd-96f7-83f1370912bb\",\"sampleContent\":\"Custom\",\"samplingControl\":\"IecOnly\",\"samplingIntervalType\":\"Unequal\",\"tenantId\":\"9416533f-c17d-4578-90cf-42fae32d3fca\",\"name\":\"MyThirdCollection\",\"key\":\"3\",\"publishingRate\":60000,\"samplingRate\":0,\"tags\":[{\"tagKey\":\"UtcTimestamp\",\"tagType\":\"MeasuredValue\",\"displayName\":\"Time\",\"formatString\":\"\",\"dataType\":12,\"id\":\"3f2a0775-fea7-4f62-8bb3-e7dea198c912\",\"groupId\":\"2c42e566-34f6-419e-9be0-80bb4557a8f5\",\"tenantId\":\"9416533f-c17d-4578-90cf-42fae32d3fca\",\"physicalUnit\":\"\",\"groupKey\":\"3\",\"deviceId\":\"a759dfc5-1761-44bd-96f7-83f1370912bb\",\"typeId\":1,\"trueValueText\":\"\",\"falseValueText\":\"\",\"minValue\":null,\"maxValue\":null,\"lowerWarning\":null,\"lowerAlarm\":null,\"upperWarning\":null,\"upperAlarm\":null,\"properties\":[]},{\"tagKey\":\"var7_word\",\"tagType\":\"MeasuredValue\",\"displayName\":\"\",\"formatString\":\"\",\"dataType\":5,\"id\":\"50b6b6a1-0843-4c13-9ac3-3ce23b7fc0d4\",\"groupId\":\"2c42e566-34f6-419e-9be0-80bb4557a8f5\",\"tenantId\":\"9416533f-c17d-4578-90cf-42fae32d3fca\",\"physicalUnit\":\"u3\",\"groupKey\":\"3\",\"deviceId\":\"a759dfc5-1761-44bd-96f7-83f1370912bb\",\"typeId\":0,\"trueValueText\":\"\",\"falseValueText\":\"\",\"minValue\":null,\"maxValue\":null,\"lowerWarning\":null,\"lowerAlarm\":null,\"upperWarning\":null,\"upperAlarm\":null,\"properties\":[]},{\"tagKey\":\"var8_int\",\"tagType\":\"MeasuredValue\",\"displayName\":\"\",\"formatString\":\"\",\"dataType\":3,\"id\":\"00630333-7f95-4b75-9d90-5c8ff4c44d58\",\"groupId\":\"2c42e566-34f6-419e-9be0-80bb4557a8f5\",\"tenantId\":\"9416533f-c17d-4578-90cf-42fae32d3fca\",\"physicalUnit\":\"u4\",\"groupKey\":\"3\",\"deviceId\":\"a759dfc5-1761-44bd-96f7-83f1370912bb\",\"typeId\":0,\"trueValueText\":\"\",\"falseValueText\":\"\",\"minValue\":null,\"maxValue\":null,\"lowerWarning\":null,\"lowerAlarm\":null,\"upperWarning\":null,\"upperAlarm\":null,\"properties\":[]}],\"properties\":[],\"tagCount\":2}],\"disableBuildInCommands\":false,\"disableCustomCommands\":false,\"overrideDefaultSettings\":false,\"effectiveDisableBuildInCommands\":false,\"effectiveDisableCustomCommands\":false,\"isTelemetryTimeout\":false,\"physicalConnectionState\":0,\"properties\":[]},\"deviceId\":\"a759dfc5-1761-44bd-96f7-83f1370912bb\",\"projectId\":\"711a77f9-28f2-482c-8440-76cc51c45f1d\",\"groups\":[{\"groupKey\":\"1\",\"tagKeys\":[\"Office_temperature\",\"Coffee_Level\"],\"group\":{\"id\":\"23ecdd56-e117-4661-b962-86419fad3b58\",\"deviceId\":\"a759dfc5-1761-44bd-96f7-83f1370912bb\",\"sampleContent\":\"All\",\"samplingControl\":\"Cloud\",\"samplingIntervalType\":\"Equal\",\"tenantId\":\"9416533f-c17d-4578-90cf-42fae32d3fca\",\"name\":\"Office_Collection\",\"key\":\"1\",\"publishingRate\":60000,\"samplingRate\":30000,\"tags\":[{\"tagKey\":\"Coffee_Level\",\"tagType\":\"MeasuredValue\",\"displayName\":\"\",\"formatString\":\"#.0\",\"dataType\":9,\"id\":\"b894b8ec-813d-4265-9da8-e72376a1086b\",\"groupId\":\"23ecdd56-e117-4661-b962-86419fad3b58\",\"tenantId\":\"9416533f-c17d-4578-90cf-42fae32d3fca\",\"physicalUnit\":\"l\",\"groupKey\":\"1\",\"deviceId\":\"a759dfc5-1761-44bd-96f7-83f1370912bb\",\"typeId\":0,\"trueValueText\":\"\",\"falseValueText\":\"\",\"minValue\":null,\"maxValue\":null,\"lowerWarning\":null,\"lowerAlarm\":null,\"upperWarning\":null,\"upperAlarm\":null,\"properties\":[]},{\"tagKey\":\"Office_temperature\",\"tagType\":\"MeasuredValue\",\"displayName\":\"\",\"formatString\":\"#.0\",\"dataType\":9,\"id\":\"c76bd276-dbb5-451e-a753-079a673fa4b6\",\"groupId\":\"23ecdd56-e117-4661-b962-86419fad3b58\",\"tenantId\":\"9416533f-c17d-4578-90cf-42fae32d3fca\",\"physicalUnit\":\"C\",\"groupKey\":\"1\",\"deviceId\":\"a759dfc5-1761-44bd-96f7-83f1370912bb\",\"typeId\":0,\"trueValueText\":\"\",\"falseValueText\":\"\",\"minValue\":null,\"maxValue\":null,\"lowerWarning\":null,\"lowerAlarm\":null,\"upperWarning\":null,\"upperAlarm\":null,\"properties\":[]},{\"tagKey\":\"PFC_Type\",\"tagType\":\"MeasuredValue\",\"displayName\":\"\",\"formatString\":\"\",\"dataType\":0,\"id\":\"2e49dc30-1515-45aa-bc10-ae878837c8fb\",\"groupId\":\"23ecdd56-e117-4661-b962-86419fad3b58\",\"tenantId\":\"9416533f-c17d-4578-90cf-42fae32d3fca\",\"physicalUnit\":\"\",\"groupKey\":\"1\",\"deviceId\":\"a759dfc5-1761-44bd-96f7-83f1370912bb\",\"typeId\":0,\"trueValueText\":\"\",\"falseValueText\":\"\",\"minValue\":null,\"maxValue\":null,\"lowerWarning\":null,\"lowerAlarm\":null,\"upperWarning\":null,\"upperAlarm\":null,\"properties\":[]},{\"tagKey\":\"UtcTimestamp\",\"tagType\":\"MeasuredValue\",\"displayName\":\"Time\",\"formatString\":\"\",\"dataType\":12,\"id\":\"2ac32ef0-37f6-47d3-ac6e-fb645b18e6b8\",\"groupId\":\"23ecdd56-e117-4661-b962-86419fad3b58\",\"tenantId\":\"9416533f-c17d-4578-90cf-42fae32d3fca\",\"physicalUnit\":\"\",\"groupKey\":\"1\",\"deviceId\":\"a759dfc5-1761-44bd-96f7-83f1370912bb\",\"typeId\":1,\"trueValueText\":\"\",\"falseValueText\":\"\",\"minValue\":null,\"maxValue\":null,\"lowerWarning\":null,\"lowerAlarm\":null,\"upperWarning\":null,\"upperAlarm\":null,\"properties\":[]}],\"properties\":[],\"tagCount\":3}}]},\"fileNamePattern\":\"<p style=\\\"white-space: nowrap; overflow: hidden;\\\"><span name=\\\"dynamicTag\\\" key=\\\"deviceName\\\" contenteditable=\\\"false\\\" style=\\\"font-weight: bold;pointer-events: none\\\">{Gerätename}</span>_<span name=\\\"dynamicTag\\\" key=\\\"timeRange\\\" contenteditable=\\\"false\\\" style=\\\"font-weight: bold;pointer-events: none\\\">{Zeitraum}</span></p>\",\"jobType\":\"dataexportjob\",\"jobId\":\"c22bc348-69bd-473c-95f9-22fbd65bd2fd\"},\"tenantId\":\"9416533f-c17d-4578-90cf-42fae32d3fca\",\"offset\":\"00:00:00\",\"isScheduledJob\":false,\"interval\":\"01:00:00\",\"jobExpiration\":\"2019-10-25T12:02:48.7020986Z\",\"jobExecutionState\":{\"message\":\"\",\"lastOccurrence\":\"0001-01-01T00:00:00\",\"state\":0,\"csvUrl\":\"\",\"contentLength\":0.0,\"headerLength\":0.0}}}\n"
     ]
    }
   ],
   "source": [
    "\n",
    "import json\n",
    "import requests\n",
    "#________________________________________________________________________________________________\n",
    "\n",
    "\n",
    "\n",
    "sURL_login = 'https://cloud.wago.com/api/token'\n",
    "sHEAD_login = {\"Content-type\": \"application/x-www-form-urlencoded\"}\n",
    "payload = 'grant_type=password&username='+myWagoCloudLogin+'&password='+myWagoCloudPassword\n",
    "\n",
    "ret = requests.post(sURL_login,headers=sHEAD_login,data= payload)\n",
    "#print(\"Login Code:\",ret.status_code)\n",
    "json_login_data = ret.text\n",
    "obj_json_login_data = json.loads(json_login_data)\n",
    "\n",
    "sAccess_token = obj_json_login_data[\"access_token\"]\n",
    "sName = obj_json_login_data[\"name\"]\n",
    "sID = obj_json_login_data[\"Id\"]\n",
    "sTokenType = obj_json_login_data[\"token_type\"]\n",
    "sExpires_in = obj_json_login_data[\"expires_in\"]\n",
    "sHeaderEntry = {'Authorization': sTokenType+\" \"+sAccess_token,'Content-Type':'application/json'}\n",
    "#________________________________________________________________________________________________\n",
    "\n",
    "sURL_data_from_device = 'https://cloud.wago.com/API/v1/jobs'\n",
    "\n",
    "#___________________Start Edit here_____________________________________________________________________________\n",
    "\n",
    "sYear  = \"2019\"\n",
    "\n",
    "sMonth = \"08\"\n",
    "\n",
    "sDayStart = \"06\"\n",
    "sDayStop  = \"06\"\n",
    "\n",
    "sHourStart = \"07\"\n",
    "sHourStop  = \"18\"\n",
    "\n",
    "\n",
    "myTenantID =    '9416533f-c17d-4578-90cf-42fae32d3fca'  #\"793cef0d-4a52-478f-a9ae-5437a7edcfbb\"\n",
    "myTestDeviceID ='a759dfc5-1761-44bd-96f7-83f1370912bb'  #\"c3006a0a-c218-4a65-b30c-ea1d5d2188ac\" \n",
    "myProjectID =   '711a77f9-28f2-482c-8440-76cc51c45f1d'  #\"5df584bf-f25d-4dac-ab9a-2e3c93b51f7c\" \n",
    "\n",
    "tagKeys =['Office_temperature','Coffee_Level']#[\"Temperatur\",\"Spannungsgeber\",\"Netzspannung\",\"Wirkenergie\"]\n",
    "\n",
    "myGroupKeyID= '1'\n",
    "#___________________Stop Edit here_____________________________________________________________________________\n",
    "\n",
    "\n",
    "sIntervalStart =sYear+\"-\"+sMonth+\"-\"+sDayStart+\"T\"+sHourStart+\":00:00.000Z\"\n",
    "sIntervalStop  = sYear+\"-\"+sMonth+\"-\"+sDayStop+\"T\"+sHourStop+\":00:00.000Z\"\n",
    "sFileName = \"MyFile_\"+sDayStart\n",
    "sJobName = \"myCSV_ExportJob_\"+sYear+\"_\"+sMonth+\"_\"+sDayStart\n",
    "\n",
    "\n",
    "myTestDevice ={\n",
    "    \"jobName\": sJobName,\n",
    "    \"isScheduledJob\": False,\n",
    "    \"interval\": \"1:0:0\",\n",
    "    \"offset\": \"0:0:0\",\n",
    "    \"dataExportConfig\": {\n",
    "        \"intervalStart\": sIntervalStart,\n",
    "        \"intervalEnd\": sIntervalStop,\n",
    "        \"delimiter\": \"Semicolon\",\n",
    "        \"tagExportHeader\": sJobName,\n",
    "        \"additionalProperty\": \"\",\n",
    "        \"datetimeFormat\": \"MM/dd/yyyy HH:mm:ss.fff\",\n",
    "        \"fileNamePattern\": \"<p style=\\\"white-space: nowrap; overflow: hidden;\\\"><span name=\\\"dynamicTag\\\" key=\\\"deviceName\\\" contenteditable=\\\"false\\\" style=\\\"font-weight: bold;pointer-events: none\\\">{Gerätename}</span>_<span name=\\\"dynamicTag\\\" key=\\\"timeRange\\\" contenteditable=\\\"false\\\" style=\\\"font-weight: bold;pointer-events: none\\\">{Zeitraum}</span></p>\",\n",
    "        \"useDeviceTimezone\": False,\n",
    "        \"deviceReference\": {\n",
    "            \"deviceId\": myTestDeviceID,\n",
    "            \"projectId\": myProjectID,\n",
    "            \"groups\": [\n",
    "                {\n",
    "                    \"groupKey\": myGroupKeyID,\n",
    "                    \"tagKeys\": tagKeys\n",
    "                }\n",
    "            ]\n",
    "        }\n",
    "    },\n",
    "    \"tenantId\":myTenantID\n",
    "}\n",
    "json_payload_get_data_from_device = json.dumps(myTestDevice)\n",
    "ret_link_data_export_d = requests.post(sURL_data_from_device,\n",
    "                           headers=sHeaderEntry,\n",
    "                           data= json_payload_get_data_from_device) \n",
    "#print(\"Export CSV File Code: \",ret_link_data_export_d.status_code)\n",
    "print(ret_link_data_export_d.text)\n"
   ]
  },
  {
   "cell_type": "code",
   "execution_count": null,
   "metadata": {},
   "outputs": [],
   "source": []
  }
 ],
 "metadata": {
  "kernelspec": {
   "display_name": "Python 3",
   "language": "python",
   "name": "python3"
  },
  "language_info": {
   "codemirror_mode": {
    "name": "ipython",
    "version": 3
   },
   "file_extension": ".py",
   "mimetype": "text/x-python",
   "name": "python",
   "nbconvert_exporter": "python",
   "pygments_lexer": "ipython3",
   "version": "3.7.3"
  }
 },
 "nbformat": 4,
 "nbformat_minor": 2
}
