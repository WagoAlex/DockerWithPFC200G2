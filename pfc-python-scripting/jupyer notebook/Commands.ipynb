{
 "cells": [
  {
   "cell_type": "code",
   "execution_count": 1,
   "metadata": {},
   "outputs": [],
   "source": [
    "myWagoCloudPassword='#Wagoseminar1'\n",
    "myWagoCloudLogin = 'seminare@wago.com'\n",
    "\n",
    "\n"
   ]
  },
  {
   "cell_type": "code",
   "execution_count": 2,
   "metadata": {
    "scrolled": false
   },
   "outputs": [
    {
     "name": "stdout",
     "output_type": "stream",
     "text": [
      "Login Code: 200\n",
      "{\"access_token\":\"eyJ0eXAiOiJKV1QiLCJhbGciOiJSUzI1NiIsImtpZCI6Ilg1ZVhrNHh5b2pORnVtMWtsMll0djhkbE5QNC1jNTdkTzZRR1RWQndhTmsifQ.eyJpc3MiOiJodHRwczovL3RlLmNwaW0ud2luZG93cy5uZXQvNzdmMDRmN2MtNTllNS00OWQzLTkzZjUtYTRjMzJkMTcyNjIxL3YyLjAvIiwiZXhwIjoxNTcxNDg2MjYyLCJuYmYiOjE1NzEzOTk4NjIsImF1ZCI6Ijc1MThkZmRkLWIxOGYtNDBkNi05ZDVmLWI1YTIxOTRjNGE5OCIsImlkcCI6IkxvY2FsQWNjb3VudCIsIm9pZCI6IjhlMjM1NTIzLWRmNjgtNDZiNi05ZDYzLTE1MjU2MTc3YmE2MiIsInN1YiI6IjhlMjM1NTIzLWRmNjgtNDZiNi05ZDYzLTE1MjU2MTc3YmE2MiIsIm5hbWUiOiJzZW1pbmFyZUB3YWdvLmNvbSIsImVtYWlscyI6WyJzZW1pbmFyZUB3YWdvLmNvbSJdLCJ0ZnAiOiJCMkNfMV9ST1BDX0F1dGgiLCJzY3AiOiJyZWFkIiwiYXpwIjoiOWU0YmMyYzktMDNhYy00MzE2LTkyNTMtZjNlOTQzODM5Mjg3IiwidmVyIjoiMS4wIiwiaWF0IjoxNTcxMzk5ODYyfQ.llfjHDDBKsro7x3f-brzASVrUs_qt7gXXc_xTfKcSVnH_PUAOdIbYmKPVTE-zBFryJ5CVPig4Q47BHjJ_5wXt1EyM_xYM-9Odhs-BTVPmVUELrDvbU-2dBJh9_YNW1n_o2c6-DgkbrhkQZVL51PABC6RvJDkvRaJS0gmwRebssuw9o1Ah3UGAwto4VMMIFSm2_WkVkPIHUyTCy8naoZvvyAIf3pjnTekuReT6lsdE7x1xl2dlQWcH-nBoMiIrQsf4mOxHB0jCXDCszVeGLzFYhoJbaxywNYEmKPbWNQiSapxBGDYhBhUhn9nfMg0tWyHqupE1yF1_9xbYIVJzbdUfA\",\"refresh_token\":\"eyJraWQiOiJjcGltY29yZV8wOTI1MjAxNSIsInZlciI6IjEuMCIsInppcCI6IkRlZmxhdGUiLCJzZXIiOiIxLjAifQ..ZlqhZjnEOMZ7W3IW.qYR_UMVvpuYR6Oox3SFqgZOzEW_X26GI9q8KAR9ezOoORLMFIfdIGn5IbwHXxDmhO-Um85MV8iNBCSPTbt2ari794xeVz8mUw8se4BYNHhU4L6C7BoX4oUXv5WKYE2alhx0JkzyXCkazyKWgy0hrSCDdPVyi7WawtkToZGo-qA4__jO5NjBM93d8lL6CbfVIIHU3uqdVJwjR6HD9KaW7I5ZoXmOWBk6cjeVm6OZRozP4cpI-oydlAbrgAAAxP3NQYh-iE2-sent3AUty5TVIIAcqBzcrfzpUsdgeCqgncck4FcDDvKhg8gpNlkp5paJUoh-QOAx0FltZ__VR1IFiGEWOUT8p23CqZWt-oGRBxVcN87oNieQL4dDbSbb8yMF2-tUReisMTjO-Tunj4kh6xVZT5jCTeobrEfCHouqKzOe5jngiQ2MW1EXIGCmmJaxyvy9Qw-XlnIWOGb8nv6mAv2VUj_bIjCR7AM7ibHt7XItOyQvcftdeXSmyz9v70tJSW31mLJYJmkG4QzbBT5H_ixDcdqD8ubUJ1p8i4DHKdkumA77APxyjQRGHTIeDpD0fncZM3t1x8Lq70dREuwLaIqHHv41PwT04FLuU3wfRvJShufu2RJleOC47cM3RRAoXEnIW9Um6UX_CJP3Khfqo3kabXxUcAFKHGl0G0NPsfm-RnrEVwtzMUMLu-r0A03bCFXR-PTq3uHDN3BMg7tG8kKGEV1_bNMO-0Y0._sC3iNuCK8Eknjor430c2w\",\"name\":\"seminare@wago.com\",\"Id\":\"8e235523-df68-46b6-9d63-15256177ba62\",\"token_type\":\"bearer\",\"expires_in\":86400}\n"
     ]
    }
   ],
   "source": [
    "import requests\n",
    "import json \n",
    "\n",
    "\n",
    "sURL_login = 'https://cloud.wago.com/api/token'\n",
    "sHEAD_login = {\"Content-type\": \"application/x-www-form-urlencoded\"}\n",
    "payload = 'grant_type=password&username='+myWagoCloudLogin+'&password='+myWagoCloudPassword\n",
    "\n",
    "\n",
    "\n",
    "ret = requests.post(sURL_login,headers=sHEAD_login,data= payload)\n",
    "print(\"Login Code:\",ret.status_code)\n",
    "\n",
    "json_login_data = ret.text\n",
    "obj_json_login_data = json.loads(json_login_data)\n",
    "\n",
    "sAccess_token = obj_json_login_data[\"access_token\"]\n",
    "sName = obj_json_login_data[\"name\"]\n",
    "sID = obj_json_login_data[\"Id\"]\n",
    "sTokenType = obj_json_login_data[\"token_type\"]\n",
    "sExpires_in = obj_json_login_data[\"expires_in\"]\n",
    "print(json_login_data)\n",
    "\n",
    "sHeaderEntry = {'Authorization': sTokenType+\" \"+sAccess_token,'Content-Type':'application/json'}\n",
    "\n",
    "#________________________________________________________________________________________________\n",
    "\n",
    "\n"
   ]
  },
  {
   "cell_type": "code",
   "execution_count": 3,
   "metadata": {},
   "outputs": [
    {
     "name": "stdout",
     "output_type": "stream",
     "text": [
      "Get commands Code: 200\n",
      "Get commands Response: {\"succeed\":true,\"message\":\"\",\"resultCode\":0,\"result\":[{\"Id\":1,\"Name\":\"Setpoint\",\"IsBuiltinCommand\":false,\"RequestParameters\":[{\"Name\":\"Floating Value\",\"Type\":\"real\"}],\"ResponseParameters\":[{\"Name\":\"...Setpoint command received\",\"Type\":\"bool\"}]},{\"Id\":2,\"Name\":\"Setpoint Comment\",\"IsBuiltinCommand\":false,\"RequestParameters\":[{\"Name\":\"String Value\",\"Type\":\"string\"}],\"ResponseParameters\":[{\"Name\":\"...Comment command received\",\"Type\":\"bool\"}]},{\"Id\":502,\"Name\":\"StartDataSubmission\",\"IsBuiltinCommand\":true,\"RequestParameters\":[],\"ResponseParameters\":[{\"Name\":\"Started\",\"Type\":\"string\"}]},{\"Id\":501,\"Name\":\"StopDataSubmission\",\"IsBuiltinCommand\":true,\"RequestParameters\":[],\"ResponseParameters\":[{\"Name\":\"Stopped\",\"Type\":\"string\"}]},{\"Id\":256,\"Name\":\"ChangeSamplingRate\",\"IsBuiltinCommand\":true,\"RequestParameters\":[{\"Name\":\"SampleIntervalMilliseconds\",\"Type\":\"dint\"},{\"Name\":\"CollectionId\",\"Type\":\"dint\"}],\"ResponseParameters\":[{\"Name\":\"Result\",\"Type\":\"string\"},{\"Name\":\"CollectionId\",\"Type\":\"string\"},{\"Name\":\"SampleIntervalMilliseconds\",\"Type\":\"string\"}]},{\"Id\":257,\"Name\":\"ChangePublishingRate\",\"IsBuiltinCommand\":true,\"RequestParameters\":[{\"Name\":\"PublishIntervalMilliseconds\",\"Type\":\"dint\"},{\"Name\":\"CollectionId\",\"Type\":\"dint\"}],\"ResponseParameters\":[{\"Name\":\"Result\",\"Type\":\"string\"},{\"Name\":\"CollectionId\",\"Type\":\"string\"},{\"Name\":\"PublishIntervalMilliseconds\",\"Type\":\"string\"}]},{\"Id\":500,\"Name\":\"DeleteController\",\"IsBuiltinCommand\":true,\"RequestParameters\":[],\"ResponseParameters\":[]},{\"Id\":504,\"Name\":\"GetNodeInfo\",\"IsBuiltinCommand\":true,\"RequestParameters\":[],\"ResponseParameters\":[{\"Name\":\"TransferTriggered\",\"Type\":\"string\"}]},{\"Id\":503,\"Name\":\"SetHeartbeatInterval\",\"IsBuiltinCommand\":true,\"RequestParameters\":[{\"Name\":\"IntervalInSeconds\",\"Type\":\"string\"}],\"ResponseParameters\":[{\"Name\":\"IntervalInSeconds\",\"Type\":\"string\"}]},{\"Id\":509,\"Name\":\"StartRemoteAccessMediator\",\"IsBuiltinCommand\":true,\"RequestParameters\":[{\"Name\":\"URL\",\"Type\":\"string\"}],\"ResponseParameters\":[{\"Name\":\"Started\",\"Type\":\"bool\"}]},{\"Id\":510,\"Name\":\"StopRemoteAccessMediator\",\"IsBuiltinCommand\":true,\"RequestParameters\":[],\"ResponseParameters\":[{\"Name\":\"Stopped\",\"Type\":\"bool\"}]}]}\n"
     ]
    }
   ],
   "source": [
    "\n",
    "myTestDeviceID='a759dfc5-1761-44bd-96f7-83f1370912bb' #e.g. 'c3006a0a-c218-4a65-b30c-ea1d5d2188ac'\n",
    "\n",
    "sURL_device_command = 'https://cloud.wago.com/API/v1/devices/'+myTestDeviceID+'/commands'\n",
    "\n",
    "ret_get_commands_d = requests.get(\n",
    "                        sURL_device_command,\n",
    "                        headers=sHeaderEntry)\n",
    "#print(ret_get_commands_d.text)\n",
    "json_ret_get_commands_d = json.dumps(ret_get_commands_d.text)\n",
    "print(\"Get commands Code:\",ret_get_commands_d.status_code)\n",
    "print(\"Get commands Response:\",ret_get_commands_d.text)"
   ]
  },
  {
   "cell_type": "code",
   "execution_count": 4,
   "metadata": {},
   "outputs": [
    {
     "name": "stdout",
     "output_type": "stream",
     "text": [
      "Login Code: 200\n",
      "{\"access_token\":\"eyJ0eXAiOiJKV1QiLCJhbGciOiJSUzI1NiIsImtpZCI6Ilg1ZVhrNHh5b2pORnVtMWtsMll0djhkbE5QNC1jNTdkTzZRR1RWQndhTmsifQ.eyJpc3MiOiJodHRwczovL3RlLmNwaW0ud2luZG93cy5uZXQvNzdmMDRmN2MtNTllNS00OWQzLTkzZjUtYTRjMzJkMTcyNjIxL3YyLjAvIiwiZXhwIjoxNTcxNDg2MzY3LCJuYmYiOjE1NzEzOTk5NjcsImF1ZCI6Ijc1MThkZmRkLWIxOGYtNDBkNi05ZDVmLWI1YTIxOTRjNGE5OCIsImlkcCI6IkxvY2FsQWNjb3VudCIsIm9pZCI6IjhlMjM1NTIzLWRmNjgtNDZiNi05ZDYzLTE1MjU2MTc3YmE2MiIsInN1YiI6IjhlMjM1NTIzLWRmNjgtNDZiNi05ZDYzLTE1MjU2MTc3YmE2MiIsIm5hbWUiOiJzZW1pbmFyZUB3YWdvLmNvbSIsImVtYWlscyI6WyJzZW1pbmFyZUB3YWdvLmNvbSJdLCJ0ZnAiOiJCMkNfMV9ST1BDX0F1dGgiLCJzY3AiOiJyZWFkIiwiYXpwIjoiOWU0YmMyYzktMDNhYy00MzE2LTkyNTMtZjNlOTQzODM5Mjg3IiwidmVyIjoiMS4wIiwiaWF0IjoxNTcxMzk5OTY3fQ.E_sSrTN9tHNX8boNG4DLXFZSvfIZy1-aAiFAVxEWYcIBJgdXuYW_k3FGqg1XKayXhIdBle3XyH9VUQFaHiezO8_CxpPNkUESzsElhzGN5-0-gk9QuM5kgPhE11h937EVzPBqNcFokIST37g_XzZ_hPfSmKvujrWG0amxFy1etLxbJjRLNAdM56B21kTUtREiTWzYYpwpdfVbrU6lYyDLgpmyxRUTPxQgem4FYg_PQZ2UATP1PDt8e_W1NFyI70DPyGw4SgWQ4s1KVVxMgps3of6a0X7qqbKRBZNg_ozkRvQt7QkBQrLv0Qb7rGSFhW0VG2S3r4Ob3RWkacBxK_0Gqg\",\"refresh_token\":\"eyJraWQiOiJjcGltY29yZV8wOTI1MjAxNSIsInZlciI6IjEuMCIsInppcCI6IkRlZmxhdGUiLCJzZXIiOiIxLjAifQ..EJ-HWruWmkkDVn2Z.QvMHRRazmoYDqx2Z2ztV7oXgL-cNnEX28RgVSv4YaalYyjjRcfEAF3Z12RUkjTGylpf_a4Mj-BucBhLK3G58m04C6WNeVz6SZ4_ievSxzw0EZshycTVH7Uum-K6FrvXzvh5_hZh0X_ALmZ2TbRi2yD4Ws0swCB6Cukj9uqIglImGdgYTe6pZLipsRq6OgR5rWU-k3-uF_23mOUHqqwQfi1JMPQmOz-gfbumnVWLAuhIUiKOrwZMiCtND_2nfaTtFfx2tB0uattyS75HzOY_WxICk1YYUh8gplCTd7BJNPcTJMAZLVmMphz_L-3kcZAzBwSkmJnaNLQKB5DVt6QPSdJDehowqzNOrsk0rR2Pmigyc8p4RA3sonuCYRD1chBsp7xOezq0N60duk-RXJz7pRIsQNcYwiT_rnu5sdc2J3_k-qgj27939DDj2l11kOjEjK6kWfDs2RPeHbKKSFvTmWijkIAmN38zniVrANdwyOcqKHYoe8TV3noPzO9l8hWb3qfQ0KUF3XpD2Eog1FY3lO2G-dJnh9VuYL8QIaPLcNCEv78gSu8BbpdJGSIC1VbMmzJSDaoVIdJ_qEmrsIngTWq0etKldJK5q3DWhJXB9qlg8mD0pgz5eZOtlWJrKhtqgpNDB6Lc47q0VQ-czGgF7NXz45zBvDdTPj2YdDpnNLGcwIX520FEO2CcTOPI4csyJoxb0OYfHDp0dMm0Mgm0pPWS13aLJfYoGAaRcVQ.5w4iBo4pLPp4THAREVM73Q\",\"name\":\"seminare@wago.com\",\"Id\":\"8e235523-df68-46b6-9d63-15256177ba62\",\"token_type\":\"bearer\",\"expires_in\":86400}\n",
      "Code 200\n",
      "Response {\"succeed\":true,\"message\":\"\",\"resultCode\":0,\"result\":{\"CommandId\":1,\"CommandRequestId\":2115251060,\"CommandResponseParameters\":[{\"Name\":\"...Setpoint command received\",\"Value\":\"42.42\"}]}}\n"
     ]
    }
   ],
   "source": [
    "import requests\n",
    "import json \n",
    "\n",
    "\n",
    "\n",
    "sURL_login = 'https://cloud.wago.com/api/token'\n",
    "sHEAD_login = {\"Content-type\": \"application/x-www-form-urlencoded\"}\n",
    "payload = 'grant_type=password&username='+myWagoCloudLogin+'&password='+myWagoCloudPassword\n",
    "\n",
    "\n",
    "\n",
    "ret = requests.post(sURL_login,headers=sHEAD_login,data= payload)\n",
    "print(\"Login Code:\",ret.status_code)\n",
    "\n",
    "json_login_data = ret.text\n",
    "obj_json_login_data = json.loads(json_login_data)\n",
    "\n",
    "sAccess_token = obj_json_login_data[\"access_token\"]\n",
    "sName = obj_json_login_data[\"name\"]\n",
    "sID = obj_json_login_data[\"Id\"]\n",
    "sTokenType = obj_json_login_data[\"token_type\"]\n",
    "sExpires_in = obj_json_login_data[\"expires_in\"]\n",
    "print(json_login_data)\n",
    "\n",
    "sHeaderEntry = {'Authorization': sTokenType+\" \"+sAccess_token,'Content-Type':'application/json'}\n",
    "#________________________________________________________________________________________________\n",
    "\n",
    "\n",
    "myTestDeviceID='a759dfc5-1761-44bd-96f7-83f1370912bb' #e.g. 'c3006a0a-c218-4a65-b30c-ea1d5d2188ac'\n",
    "\n",
    "sURL_device_command = 'https://cloud.wago.com/API/v1/devices/'+myTestDeviceID+'/commands'\n",
    "#\n",
    "payload_command_1 = {\n",
    "    \"CommandId\": 1,\n",
    "    \"CommandTimeout\": 60000,#ms\n",
    "    \"CommandParameters\": [\n",
    "                            {\n",
    "                            \"Name\": \"Floating Value\",\n",
    "                            \"Value\": 42.42\n",
    "                            }\n",
    "                        ]\n",
    "}\n",
    "\n",
    "payload_command_2 = {\n",
    "    \"CommandId\": 2,\n",
    "    \"CommandTimeout\": 60000,#ms\n",
    "    \"CommandParameters\": [\n",
    "                            {\n",
    "                            \"Name\": \"String Value\",\n",
    "                            \"Value\": \"WAGO REST API \"\n",
    "                            }\n",
    "                        ]\n",
    "}\n",
    "json_payload_command_1 = json.dumps(payload_command_1)\n",
    "\n",
    "ret_set_commands_d = requests.post(\n",
    "                            sURL_device_command,\n",
    "                            headers=sHeaderEntry,\n",
    "                            data= json_payload_command_1)\n",
    "\n",
    "print(\"Code\",ret_set_commands_d.status_code)\n",
    "print(\"Response\",ret_set_commands_d.text)"
   ]
  },
  {
   "cell_type": "code",
   "execution_count": null,
   "metadata": {},
   "outputs": [],
   "source": []
  }
 ],
 "metadata": {
  "kernelspec": {
   "display_name": "Python 3",
   "language": "python",
   "name": "python3"
  },
  "language_info": {
   "codemirror_mode": {
    "name": "ipython",
    "version": 3
   },
   "file_extension": ".py",
   "mimetype": "text/x-python",
   "name": "python",
   "nbconvert_exporter": "python",
   "pygments_lexer": "ipython3",
   "version": "3.7.3"
  }
 },
 "nbformat": 4,
 "nbformat_minor": 2
}
