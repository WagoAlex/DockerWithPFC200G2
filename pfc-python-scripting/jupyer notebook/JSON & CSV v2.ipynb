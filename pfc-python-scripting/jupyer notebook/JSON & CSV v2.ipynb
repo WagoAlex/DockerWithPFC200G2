{
 "cells": [
  {
   "cell_type": "code",
   "execution_count": 9,
   "metadata": {},
   "outputs": [],
   "source": [
    "myWagoCloudPassword='#Wagoseminar1'\n",
    "myWagoCloudLogin = 'seminare@wago.com'\n"
   ]
  },
  {
   "cell_type": "code",
   "execution_count": 10,
   "metadata": {},
   "outputs": [
    {
     "name": "stdout",
     "output_type": "stream",
     "text": [
      "Login Code: 200\n"
     ]
    }
   ],
   "source": [
    "\n",
    "import json\n",
    "import requests\n",
    "#________________________________________________________________________________________________\n",
    "\n",
    "sURL_login = 'https://cloud.wago.com/api/token'\n",
    "sHEAD_login = {\"Content-type\": \"application/x-www-form-urlencoded\"}\n",
    "payload = 'grant_type=password&username='+myWagoCloudLogin+'&password='+myWagoCloudPassword\n",
    "\n",
    "\n",
    "ret = requests.post(sURL_login,headers=sHEAD_login,data= payload)\n",
    "print(\"Login Code:\",ret.status_code)\n",
    "json_login_data = ret.text\n",
    "obj_json_login_data = json.loads(json_login_data)\n",
    "\n",
    "sAccess_token = obj_json_login_data[\"access_token\"]\n",
    "sTokenType = obj_json_login_data[\"token_type\"]\n",
    "sHeaderEntry = {'Authorization': sTokenType+\" \"+sAccess_token,'Content-Type':'application/json'}\n",
    "#_________________________________________________________________________________________________\n",
    "\n",
    "\n"
   ]
  },
  {
   "cell_type": "code",
   "execution_count": 11,
   "metadata": {
    "scrolled": true
   },
   "outputs": [
    {
     "name": "stdout",
     "output_type": "stream",
     "text": [
      "Response:  {\"userId\":\"8e235523-df68-46b6-9d63-15256177ba62\",\"succeed\":true,\"message\":\"\",\"resultCode\":0,\"result\":{\"tags\":[{\"interval\":0,\"aggregations\":[],\"isRawData\":true,\"deviceId\":\"a759dfc5-1761-44bd-96f7-83f1370912bb\",\"groupKey\":\"1\",\"tagKey\":\"Office_temperature\"}],\"values\":[[\"2019-08-06T08:00:18.695Z\",27.299999237060547],[\"2019-08-06T08:00:48.695Z\",27.299999237060547],[\"2019-08-06T08:01:18.695Z\",27.299999237060547],[\"2019-08-06T08:01:48.695Z\",27.299999237060547],[\"2019-08-06T08:02:18.695Z\",27.299999237060547],[\"2019-08-06T08:02:48.695Z\",27.200000762939453],[\"2019-08-06T08:03:18.695Z\",27.299999237060547],[\"2019-08-06T08:03:48.695Z\",27.200000762939453],[\"2019-08-06T08:04:18.695Z\",27.200000762939453],[\"2019-08-06T08:04:48.695Z\",27.200000762939453],[\"2019-08-06T08:05:18.695Z\",27.100000381469727],[\"2019-08-06T08:05:48.695Z\",27.100000381469727],[\"2019-08-06T08:06:18.695Z\",27.100000381469727],[\"2019-08-06T08:06:48.695Z\",27.100000381469727],[\"2019-08-06T08:07:18.695Z\",27.200000762939453],[\"2019-08-06T08:07:48.695Z\",27.399999618530273],[\"2019-08-06T08:08:18.695Z\",27.299999237060547],[\"2019-08-06T08:08:48.695Z\",27.299999237060547],[\"2019-08-06T08:09:18.696Z\",27.200000762939453],[\"2019-08-06T08:09:48.695Z\",27.299999237060547],[\"2019-08-06T08:10:18.695Z\",27.200000762939453],[\"2019-08-06T08:10:48.695Z\",27.299999237060547],[\"2019-08-06T08:11:18.695Z\",27.299999237060547],[\"2019-08-06T08:11:48.695Z\",27.200000762939453],[\"2019-08-06T08:12:18.695Z\",27.299999237060547],[\"2019-08-06T08:12:48.695Z\",27.200000762939453],[\"2019-08-06T08:13:18.695Z\",27.299999237060547],[\"2019-08-06T08:13:48.695Z\",27.200000762939453],[\"2019-08-06T08:14:18.695Z\",27.299999237060547],[\"2019-08-06T08:14:48.695Z\",27.299999237060547],[\"2019-08-06T08:15:18.695Z\",27.399999618530273],[\"2019-08-06T08:15:48.695Z\",27.299999237060547],[\"2019-08-06T08:16:18.695Z\",27.299999237060547],[\"2019-08-06T08:16:48.695Z\",27.299999237060547],[\"2019-08-06T08:17:18.695Z\",27.299999237060547],[\"2019-08-06T08:17:48.695Z\",27.299999237060547],[\"2019-08-06T08:18:18.695Z\",27.299999237060547],[\"2019-08-06T08:18:48.695Z\",27.299999237060547],[\"2019-08-06T08:19:18.695Z\",27.299999237060547],[\"2019-08-06T08:19:48.695Z\",27.299999237060547],[\"2019-08-06T08:20:18.695Z\",27.5],[\"2019-08-06T08:20:48.696Z\",27.399999618530273],[\"2019-08-06T08:21:18.695Z\",27.299999237060547],[\"2019-08-06T08:21:48.695Z\",27.299999237060547],[\"2019-08-06T08:22:18.695Z\",27.299999237060547],[\"2019-08-06T08:39:54.396Z\",27.399999618530273],[\"2019-08-06T08:40:24.496Z\",27.399999618530273],[\"2019-08-06T11:54:00.899Z\",27.399999618530273],[\"2019-08-06T11:54:30.899Z\",27.5],[\"2019-08-06T11:55:00.899Z\",27.399999618530273],[\"2019-08-06T11:55:30.899Z\",27.299999237060547],[\"2019-08-06T11:56:00.899Z\",27.399999618530273],[\"2019-08-06T11:56:30.899Z\",27.299999237060547],[\"2019-08-06T11:57:00.899Z\",27.399999618530273],[\"2019-08-06T11:57:30.899Z\",27.399999618530273],[\"2019-08-06T11:58:00.899Z\",27.399999618530273],[\"2019-08-06T11:58:30.899Z\",27.399999618530273],[\"2019-08-06T11:59:00.899Z\",27.399999618530273],[\"2019-08-06T11:59:30.899Z\",27.399999618530273],[\"2019-08-06T12:00:00.899Z\",27.5],[\"2019-08-06T12:00:30.899Z\",27.399999618530273],[\"2019-08-06T12:01:00.899Z\",27.399999618530273],[\"2019-08-06T12:01:30.899Z\",27.399999618530273],[\"2019-08-06T12:02:00.899Z\",27.399999618530273],[\"2019-08-06T12:02:30.899Z\",27.5],[\"2019-08-06T12:03:00.899Z\",27.399999618530273],[\"2019-08-06T12:03:30.899Z\",27.399999618530273],[\"2019-08-06T12:04:00.899Z\",27.5],[\"2019-08-06T12:04:30.899Z\",27.5],[\"2019-08-06T12:05:00.899Z\",27.399999618530273],[\"2019-08-06T12:05:30.899Z\",27.399999618530273],[\"2019-08-06T12:06:00.899Z\",27.299999237060547],[\"2019-08-06T12:06:30.899Z\",27.299999237060547],[\"2019-08-06T12:07:00.899Z\",27.299999237060547],[\"2019-08-06T12:07:30.899Z\",27.299999237060547],[\"2019-08-06T12:08:00.899Z\",27.299999237060547],[\"2019-08-06T12:08:30.899Z\",27.399999618530273],[\"2019-08-06T12:09:00.899Z\",27.5],[\"2019-08-06T12:09:30.899Z\",27.5],[\"2019-08-06T12:10:00.899Z\",27.5],[\"2019-08-06T12:10:30.899Z\",27.5],[\"2019-08-06T12:11:00.9Z\",27.5],[\"2019-08-06T12:11:30.999Z\",27.5],[\"2019-08-06T12:12:00.999Z\",27.5],[\"2019-08-06T12:12:30.999Z\",27.5],[\"2019-08-06T12:13:00.999Z\",27.5],[\"2019-08-06T12:13:30.999Z\",27.399999618530273],[\"2019-08-06T12:14:00.999Z\",27.399999618530273],[\"2019-08-06T12:14:30.999Z\",27.299999237060547],[\"2019-08-06T12:15:00.999Z\",27.399999618530273],[\"2019-08-06T12:15:30.999Z\",27.299999237060547],[\"2019-08-06T12:16:00.999Z\",27.399999618530273],[\"2019-08-06T12:16:30.999Z\",27.399999618530273],[\"2019-08-06T12:17:00.999Z\",27.399999618530273],[\"2019-08-06T12:17:30.999Z\",27.299999237060547],[\"2019-08-06T12:18:00.999Z\",27.299999237060547],[\"2019-08-06T12:18:30.999Z\",27.299999237060547],[\"2019-08-06T12:19:00.999Z\",27.299999237060547],[\"2019-08-06T12:19:31Z\",27.299999237060547],[\"2019-08-06T12:20:00.999Z\",27.299999237060547],[\"2019-08-06T12:20:30.999Z\",27.299999237060547],[\"2019-08-06T12:21:00.999Z\",27.299999237060547],[\"2019-08-06T12:21:30.999Z\",27.299999237060547],[\"2019-08-06T12:22:00.999Z\",27.299999237060547],[\"2019-08-06T12:22:30.999Z\",27.399999618530273],[\"2019-08-06T12:23:00.999Z\",27.299999237060547],[\"2019-08-06T12:23:30.999Z\",27.299999237060547],[\"2019-08-06T12:24:00.999Z\",27.299999237060547],[\"2019-08-06T12:24:30.999Z\",27.299999237060547],[\"2019-08-06T12:25:00.999Z\",27.299999237060547],[\"2019-08-06T12:25:30.999Z\",27.299999237060547],[\"2019-08-06T12:26:00.999Z\",27.299999237060547],[\"2019-08-06T12:26:30.999Z\",27.399999618530273],[\"2019-08-06T12:27:00.999Z\",27.399999618530273],[\"2019-08-06T12:27:30.999Z\",27.299999237060547],[\"2019-08-06T12:28:00.999Z\",27.399999618530273],[\"2019-08-06T12:28:31Z\",27.399999618530273],[\"2019-08-06T12:29:01.099Z\",27.299999237060547],[\"2019-08-06T12:29:31.099Z\",27.299999237060547],[\"2019-08-06T12:30:01.099Z\",27.399999618530273],[\"2019-08-06T12:30:31.099Z\",27.399999618530273],[\"2019-08-06T12:31:01.099Z\",27.399999618530273],[\"2019-08-06T12:31:31.099Z\",27.399999618530273],[\"2019-08-06T12:32:01.099Z\",27.5],[\"2019-08-06T12:32:31.099Z\",27.399999618530273],[\"2019-08-06T12:33:01.099Z\",27.399999618530273],[\"2019-08-06T12:33:31.099Z\",27.399999618530273],[\"2019-08-06T12:34:01.099Z\",27.5],[\"2019-08-06T12:34:31.099Z\",27.399999618530273],[\"2019-08-06T12:35:01.099Z\",27.399999618530273],[\"2019-08-06T12:35:31.099Z\",27.399999618530273],[\"2019-08-06T12:36:01.099Z\",27.399999618530273],[\"2019-08-06T12:36:31.099Z\",27.299999237060547],[\"2019-08-06T12:37:01.099Z\",27.299999237060547],[\"2019-08-06T12:37:31.099Z\",27.399999618530273],[\"2019-08-06T12:38:01.099Z\",27.299999237060547],[\"2019-08-06T12:38:31.099Z\",27.299999237060547],[\"2019-08-06T12:39:01.099Z\",27.299999237060547],[\"2019-08-06T12:39:31.099Z\",27.399999618530273],[\"2019-08-06T12:40:01.099Z\",27.299999237060547],[\"2019-08-06T12:40:31.099Z\",27.299999237060547],[\"2019-08-06T12:41:01.099Z\",27.299999237060547],[\"2019-08-06T12:41:31.099Z\",27.399999618530273],[\"2019-08-06T12:42:01.099Z\",27.299999237060547],[\"2019-08-06T12:42:31.099Z\",27.399999618530273],[\"2019-08-06T12:43:01.099Z\",27.399999618530273],[\"2019-08-06T12:43:31.099Z\",27.299999237060547],[\"2019-08-06T12:44:01.099Z\",27.299999237060547],[\"2019-08-06T12:44:31.099Z\",27.299999237060547],[\"2019-08-06T12:45:01.099Z\",27.299999237060547],[\"2019-08-06T12:45:31.099Z\",27.299999237060547],[\"2019-08-06T12:46:01.099Z\",27.299999237060547],[\"2019-08-06T12:46:31.099Z\",27.299999237060547],[\"2019-08-06T12:47:01.099Z\",27.299999237060547],[\"2019-08-06T12:47:31.099Z\",27.399999618530273],[\"2019-08-06T12:48:01.099Z\",27.299999237060547],[\"2019-08-06T12:48:31.099Z\",27.299999237060547],[\"2019-08-06T12:49:01.099Z\",27.399999618530273],[\"2019-08-06T12:49:31.099Z\",27.299999237060547],[\"2019-08-06T12:50:01.099Z\",27.399999618530273],[\"2019-08-06T12:50:31.099Z\",27.299999237060547],[\"2019-08-06T12:51:01.099Z\",27.299999237060547],[\"2019-08-06T12:51:31.099Z\",27.299999237060547],[\"2019-08-06T12:52:01.099Z\",27.299999237060547],[\"2019-08-06T12:52:31.102Z\",27.200000762939453],[\"2019-08-06T12:53:01.199Z\",27.299999237060547],[\"2019-08-06T12:53:31.199Z\",27.299999237060547],[\"2019-08-06T12:54:01.199Z\",27.299999237060547],[\"2019-08-06T12:54:31.199Z\",27.299999237060547],[\"2019-08-06T12:55:01.199Z\",27.299999237060547],[\"2019-08-06T12:55:31.199Z\",27.399999618530273],[\"2019-08-06T12:56:01.199Z\",27.299999237060547],[\"2019-08-06T12:56:31.199Z\",27.299999237060547],[\"2019-08-06T12:57:01.199Z\",27.399999618530273],[\"2019-08-06T12:57:31.199Z\",27.5],[\"2019-08-06T12:58:01.199Z\",27.5],[\"2019-08-06T12:58:31.199Z\",27.399999618530273],[\"2019-08-06T12:59:01.199Z\",27.399999618530273],[\"2019-08-06T12:59:31.199Z\",27.399999618530273],[\"2019-08-06T13:00:01.199Z\",27.399999618530273],[\"2019-08-06T13:00:31.199Z\",27.399999618530273],[\"2019-08-06T13:01:01.199Z\",27.399999618530273],[\"2019-08-06T13:01:31.199Z\",27.399999618530273],[\"2019-08-06T13:02:01.199Z\",27.299999237060547],[\"2019-08-06T13:02:31.199Z\",27.299999237060547],[\"2019-08-06T13:03:01.199Z\",27.399999618530273],[\"2019-08-06T13:03:31.199Z\",27.5],[\"2019-08-06T13:04:01.2Z\",27.5],[\"2019-08-06T13:04:31.299Z\",27.5],[\"2019-08-06T13:05:01.299Z\",27.5],[\"2019-08-06T13:05:31.299Z\",27.5],[\"2019-08-06T13:06:01.299Z\",27.399999618530273],[\"2019-08-06T13:06:31.299Z\",27.399999618530273],[\"2019-08-06T13:07:01.299Z\",27.399999618530273],[\"2019-08-06T13:07:31.299Z\",27.399999618530273],[\"2019-08-06T13:08:01.299Z\",27.399999618530273],[\"2019-08-06T13:08:31.299Z\",27.5],[\"2019-08-06T13:09:01.299Z\",27.399999618530273],[\"2019-08-06T13:09:31.299Z\",27.399999618530273],[\"2019-08-06T13:10:01.299Z\",27.399999618530273],[\"2019-08-06T13:10:31.299Z\",27.5],[\"2019-08-06T13:11:01.299Z\",27.399999618530273],[\"2019-08-06T13:11:31.299Z\",27.399999618530273],[\"2019-08-06T13:12:01.299Z\",27.299999237060547],[\"2019-08-06T13:12:31.299Z\",27.399999618530273],[\"2019-08-06T13:13:01.299Z\",27.399999618530273],[\"2019-08-06T13:13:31.299Z\",27.399999618530273],[\"2019-08-06T13:14:01.299Z\",27.399999618530273],[\"2019-08-06T13:14:31.299Z\",27.399999618530273],[\"2019-08-06T13:15:01.299Z\",27.399999618530273],[\"2019-08-06T13:15:31.299Z\",27.399999618530273],[\"2019-08-06T13:16:01.299Z\",27.5],[\"2019-08-06T13:16:31.299Z\",27.5],[\"2019-08-06T13:17:01.299Z\",27.5],[\"2019-08-06T13:17:31.299Z\",27.5],[\"2019-08-06T13:18:01.299Z\",27.5],[\"2019-08-06T13:18:31.299Z\",27.5],[\"2019-08-06T13:19:01.299Z\",27.600000381469727],[\"2019-08-06T13:19:31.299Z\",27.5],[\"2019-08-06T13:20:01.299Z\",27.399999618530273],[\"2019-08-06T13:20:31.299Z\",27.299999237060547],[\"2019-08-06T13:21:01.299Z\",27.399999618530273],[\"2019-08-06T13:21:31.299Z\",27.399999618530273],[\"2019-08-06T13:22:01.299Z\",27.399999618530273],[\"2019-08-06T13:22:31.299Z\",27.399999618530273],[\"2019-08-06T13:23:01.299Z\",27.299999237060547],[\"2019-08-06T13:23:31.299Z\",27.299999237060547],[\"2019-08-06T13:24:01.299Z\",27.5],[\"2019-08-06T13:24:31.299Z\",27.5],[\"2019-08-06T13:25:01.299Z\",27.399999618530273],[\"2019-08-06T13:25:31.299Z\",27.5],[\"2019-08-06T13:26:01.299Z\",27.5],[\"2019-08-06T13:26:31.299Z\",27.5],[\"2019-08-06T13:27:01.299Z\",27.5],[\"2019-08-06T13:27:31.299Z\",27.5],[\"2019-08-06T13:28:01.299Z\",27.5],[\"2019-08-06T13:28:31.299Z\",27.399999618530273],[\"2019-08-06T13:29:01.299Z\",27.299999237060547],[\"2019-08-06T13:29:31.299Z\",27.399999618530273],[\"2019-08-06T13:30:01.299Z\",27.399999618530273],[\"2019-08-06T13:30:31.299Z\",27.5],[\"2019-08-06T13:31:01.299Z\",27.600000381469727],[\"2019-08-06T13:31:31.299Z\",27.399999618530273],[\"2019-08-06T13:32:01.299Z\",27.399999618530273],[\"2019-08-06T13:32:31.299Z\",27.299999237060547],[\"2019-08-06T13:33:01.299Z\",27.399999618530273],[\"2019-08-06T13:33:31.299Z\",27.399999618530273],[\"2019-08-06T13:34:01.299Z\",27.299999237060547],[\"2019-08-06T13:34:31.299Z\",27.299999237060547],[\"2019-08-06T13:35:01.299Z\",27.5],[\"2019-08-06T13:35:31.299Z\",27.399999618530273],[\"2019-08-06T13:36:01.299Z\",27.5],[\"2019-08-06T13:36:31.299Z\",27.399999618530273],[\"2019-08-06T13:37:01.299Z\",27.5],[\"2019-08-06T13:37:31.299Z\",27.5],[\"2019-08-06T13:38:01.299Z\",27.399999618530273],[\"2019-08-06T13:38:31.3Z\",27.399999618530273],[\"2019-08-06T13:39:01.399Z\",27.399999618530273],[\"2019-08-06T13:39:31.399Z\",27.399999618530273],[\"2019-08-06T13:40:01.399Z\",27.5],[\"2019-08-06T13:40:31.399Z\",27.399999618530273],[\"2019-08-06T13:41:01.399Z\",27.399999618530273],[\"2019-08-06T13:41:31.399Z\",27.299999237060547],[\"2019-08-06T13:42:01.399Z\",27.399999618530273],[\"2019-08-06T13:42:31.399Z\",27.399999618530273],[\"2019-08-06T13:43:01.399Z\",27.5],[\"2019-08-06T13:43:31.399Z\",27.399999618530273],[\"2019-08-06T13:44:01.399Z\",27.399999618530273],[\"2019-08-06T13:44:31.399Z\",27.399999618530273],[\"2019-08-06T13:45:01.399Z\",27.399999618530273],[\"2019-08-06T13:45:31.399Z\",27.5],[\"2019-08-06T13:46:01.399Z\",27.399999618530273],[\"2019-08-06T13:46:31.399Z\",27.399999618530273],[\"2019-08-06T13:47:01.399Z\",27.5],[\"2019-08-06T13:47:31.399Z\",27.399999618530273],[\"2019-08-06T13:48:01.399Z\",27.399999618530273],[\"2019-08-06T13:48:31.399Z\",27.399999618530273],[\"2019-08-06T13:49:01.399Z\",27.299999237060547],[\"2019-08-06T13:49:31.399Z\",27.299999237060547],[\"2019-08-06T13:50:01.399Z\",27.299999237060547],[\"2019-08-06T13:50:31.399Z\",27.299999237060547],[\"2019-08-06T13:51:01.399Z\",27.399999618530273]]}}\n"
     ]
    }
   ],
   "source": [
    "sURL_data_from_device_history = 'https://cloud.wago.com/API/v2/historicalData'\n",
    "myTestDeviceID='a759dfc5-1761-44bd-96f7-83f1370912bb' \n",
    "mySingleTagKey = 'Office_temperature'\n",
    "\n",
    "myDevice = {\n",
    "  \"from\": \"2019-08-06T08:00:00.000Z\",\n",
    "  \"to\": \"2019-08-06T19:00:00.000Z\",\n",
    "  \"tags\":[\n",
    "            {\n",
    "            \"deviceId\": myTestDeviceID,\n",
    "            \"groupKey\": \"1\",\n",
    "            \"tagKey\":mySingleTagKey\n",
    "            }\n",
    "        ]\n",
    "}\n",
    "\n",
    "\n",
    "json_payload_get_data_from_device_history = json.dumps(myDevice)\n",
    "ret_link_data_export_d_h = requests.post(sURL_data_from_device_history,\n",
    "                           headers=sHeaderEntry,\n",
    "                           data= json_payload_get_data_from_device_history)\n",
    "\n",
    "#print(\"Code: \",ret_link_data_export_d_h.status_code)\n",
    "print(\"Response: \",ret_link_data_export_d_h.text)\n",
    "\n"
   ]
  },
  {
   "cell_type": "code",
   "execution_count": 2,
   "metadata": {
    "scrolled": true
   },
   "outputs": [
    {
     "name": "stdout",
     "output_type": "stream",
     "text": [
      "Login Code: 200\n",
      "Export CSV File Code:  200\n",
      "Export CSV File Response:  {\"succeed\":true,\"message\":\"\",\"resultCode\":0,\"result\":{\"jobId\":\"96760f32-66c6-4d02-b776-52c759fcf4e2\",\"jobName\":\"myCSV_ExportJob_2019_08_06\",\"dataExportConfig\":{\"intervalStart\":\"2019-08-06T07:00:00Z\",\"intervalEnd\":\"2019-08-06T18:00:00Z\",\"delimiter\":3,\"additionalProperty\":\"\",\"useDeviceTimezone\":false,\"tagExportHeader\":0,\"datetimeFormat\":\"MM/dd/yyyy HH:mm:ss.fff\",\"requester\":\"8e235523-df68-46b6-9d63-15256177ba62\",\"requesterName\":null,\"deviceReference\":{\"Device\":{\"id\":\"a759dfc5-1761-44bd-96f7-83f1370912bb\",\"tenantId\":\"9416533f-c17d-4578-90cf-42fae32d3fca\",\"name\":\"PFC_Training\",\"activationState\":1,\"address\":\"\",\"connectionState\":2,\"creationDate\":\"2019-07-29T08:21:03.7062228\",\"creator\":\"8e235523-df68-46b6-9d63-15256177ba62\",\"description\":\"\",\"enableState\":0,\"heartbeatInterval\":60000,\"heartbeatTimeout\":300000,\"telemetryTimeout\":86400000,\"protocolVersion\":\"1.3.0\",\"timezone\":0,\"latitude\":null,\"longitude\":null,\"configuraionHasError\":false,\"configuraionErrorMessage\":null,\"collectionGroups\":[{\"id\":\"23ecdd56-e117-4661-b962-86419fad3b58\",\"deviceId\":\"a759dfc5-1761-44bd-96f7-83f1370912bb\",\"sampleContent\":\"All\",\"samplingControl\":\"Cloud\",\"samplingIntervalType\":\"Equal\",\"tenantId\":\"9416533f-c17d-4578-90cf-42fae32d3fca\",\"name\":\"Office_Collection\",\"key\":\"1\",\"publishingRate\":60000,\"samplingRate\":30000,\"tags\":[{\"tagKey\":\"Coffee_Level\",\"tagType\":\"MeasuredValue\",\"displayName\":\"\",\"formatString\":\"#.0\",\"dataType\":9,\"id\":\"b894b8ec-813d-4265-9da8-e72376a1086b\",\"groupId\":\"23ecdd56-e117-4661-b962-86419fad3b58\",\"tenantId\":\"9416533f-c17d-4578-90cf-42fae32d3fca\",\"physicalUnit\":\"l\",\"groupKey\":\"1\",\"deviceId\":\"a759dfc5-1761-44bd-96f7-83f1370912bb\",\"typeId\":0,\"trueValueText\":\"\",\"falseValueText\":\"\",\"minValue\":null,\"maxValue\":null,\"lowerWarning\":null,\"lowerAlarm\":null,\"upperWarning\":null,\"upperAlarm\":null,\"properties\":[]},{\"tagKey\":\"Office_temperature\",\"tagType\":\"MeasuredValue\",\"displayName\":\"\",\"formatString\":\"#.0\",\"dataType\":9,\"id\":\"c76bd276-dbb5-451e-a753-079a673fa4b6\",\"groupId\":\"23ecdd56-e117-4661-b962-86419fad3b58\",\"tenantId\":\"9416533f-c17d-4578-90cf-42fae32d3fca\",\"physicalUnit\":\"C\",\"groupKey\":\"1\",\"deviceId\":\"a759dfc5-1761-44bd-96f7-83f1370912bb\",\"typeId\":0,\"trueValueText\":\"\",\"falseValueText\":\"\",\"minValue\":null,\"maxValue\":null,\"lowerWarning\":null,\"lowerAlarm\":null,\"upperWarning\":null,\"upperAlarm\":null,\"properties\":[]},{\"tagKey\":\"PFC_Type\",\"tagType\":\"MeasuredValue\",\"displayName\":\"\",\"formatString\":\"\",\"dataType\":0,\"id\":\"2e49dc30-1515-45aa-bc10-ae878837c8fb\",\"groupId\":\"23ecdd56-e117-4661-b962-86419fad3b58\",\"tenantId\":\"9416533f-c17d-4578-90cf-42fae32d3fca\",\"physicalUnit\":\"\",\"groupKey\":\"1\",\"deviceId\":\"a759dfc5-1761-44bd-96f7-83f1370912bb\",\"typeId\":0,\"trueValueText\":\"\",\"falseValueText\":\"\",\"minValue\":null,\"maxValue\":null,\"lowerWarning\":null,\"lowerAlarm\":null,\"upperWarning\":null,\"upperAlarm\":null,\"properties\":[]},{\"tagKey\":\"UtcTimestamp\",\"tagType\":\"MeasuredValue\",\"displayName\":\"Time\",\"formatString\":\"\",\"dataType\":12,\"id\":\"2ac32ef0-37f6-47d3-ac6e-fb645b18e6b8\",\"groupId\":\"23ecdd56-e117-4661-b962-86419fad3b58\",\"tenantId\":\"9416533f-c17d-4578-90cf-42fae32d3fca\",\"physicalUnit\":\"\",\"groupKey\":\"1\",\"deviceId\":\"a759dfc5-1761-44bd-96f7-83f1370912bb\",\"typeId\":1,\"trueValueText\":\"\",\"falseValueText\":\"\",\"minValue\":null,\"maxValue\":null,\"lowerWarning\":null,\"lowerAlarm\":null,\"upperWarning\":null,\"upperAlarm\":null,\"properties\":[]}],\"properties\":[],\"tagCount\":3},{\"id\":\"a578e340-0a50-4f88-a5e1-2ba585a13511\",\"deviceId\":\"a759dfc5-1761-44bd-96f7-83f1370912bb\",\"sampleContent\":\"Custom\",\"samplingControl\":\"IecOnly\",\"samplingIntervalType\":\"Unequal\",\"tenantId\":\"9416533f-c17d-4578-90cf-42fae32d3fca\",\"name\":\"MySecondCollection\",\"key\":\"2\",\"publishingRate\":60000,\"samplingRate\":0,\"tags\":[{\"tagKey\":\"UtcTimestamp\",\"tagType\":\"MeasuredValue\",\"displayName\":\"Time\",\"formatString\":\"\",\"dataType\":12,\"id\":\"15569521-e3cd-4460-aef8-f1728e355443\",\"groupId\":\"a578e340-0a50-4f88-a5e1-2ba585a13511\",\"tenantId\":\"9416533f-c17d-4578-90cf-42fae32d3fca\",\"physicalUnit\":\"\",\"groupKey\":\"2\",\"deviceId\":\"a759dfc5-1761-44bd-96f7-83f1370912bb\",\"typeId\":1,\"trueValueText\":\"\",\"falseValueText\":\"\",\"minValue\":null,\"maxValue\":null,\"lowerWarning\":null,\"lowerAlarm\":null,\"upperWarning\":null,\"upperAlarm\":null,\"properties\":[]},{\"tagKey\":\"var4_byte\",\"tagType\":\"MeasuredValue\",\"displayName\":\"\",\"formatString\":\"\",\"dataType\":1,\"id\":\"457efb4f-2d5f-434b-b21d-eec439132c81\",\"groupId\":\"a578e340-0a50-4f88-a5e1-2ba585a13511\",\"tenantId\":\"9416533f-c17d-4578-90cf-42fae32d3fca\",\"physicalUnit\":\"u3\",\"groupKey\":\"2\",\"deviceId\":\"a759dfc5-1761-44bd-96f7-83f1370912bb\",\"typeId\":0,\"trueValueText\":\"\",\"falseValueText\":\"\",\"minValue\":null,\"maxValue\":null,\"lowerWarning\":null,\"lowerAlarm\":null,\"upperWarning\":null,\"upperAlarm\":null,\"properties\":[]},{\"tagKey\":\"var5_bool\",\"tagType\":\"MeasuredValue\",\"displayName\":\"\",\"formatString\":\"\",\"dataType\":11,\"id\":\"ce0f6536-9f1b-4adb-a303-e1600cb10279\",\"groupId\":\"a578e340-0a50-4f88-a5e1-2ba585a13511\",\"tenantId\":\"9416533f-c17d-4578-90cf-42fae32d3fca\",\"physicalUnit\":\"u4\",\"groupKey\":\"2\",\"deviceId\":\"a759dfc5-1761-44bd-96f7-83f1370912bb\",\"typeId\":0,\"trueValueText\":\"\",\"falseValueText\":\"\",\"minValue\":null,\"maxValue\":null,\"lowerWarning\":null,\"lowerAlarm\":null,\"upperWarning\":null,\"upperAlarm\":null,\"properties\":[]},{\"tagKey\":\"var6_real\",\"tagType\":\"MeasuredValue\",\"displayName\":\"\",\"formatString\":\"\",\"dataType\":9,\"id\":\"bf09ea37-0a8b-4195-9cfd-8416f74e11ec\",\"groupId\":\"a578e340-0a50-4f88-a5e1-2ba585a13511\",\"tenantId\":\"9416533f-c17d-4578-90cf-42fae32d3fca\",\"physicalUnit\":\"u5\",\"groupKey\":\"2\",\"deviceId\":\"a759dfc5-1761-44bd-96f7-83f1370912bb\",\"typeId\":0,\"trueValueText\":\"\",\"falseValueText\":\"\",\"minValue\":null,\"maxValue\":null,\"lowerWarning\":null,\"lowerAlarm\":null,\"upperWarning\":null,\"upperAlarm\":null,\"properties\":[]}],\"properties\":[],\"tagCount\":3},{\"id\":\"2c42e566-34f6-419e-9be0-80bb4557a8f5\",\"deviceId\":\"a759dfc5-1761-44bd-96f7-83f1370912bb\",\"sampleContent\":\"Custom\",\"samplingControl\":\"IecOnly\",\"samplingIntervalType\":\"Unequal\",\"tenantId\":\"9416533f-c17d-4578-90cf-42fae32d3fca\",\"name\":\"MyThirdCollection\",\"key\":\"3\",\"publishingRate\":60000,\"samplingRate\":0,\"tags\":[{\"tagKey\":\"UtcTimestamp\",\"tagType\":\"MeasuredValue\",\"displayName\":\"Time\",\"formatString\":\"\",\"dataType\":12,\"id\":\"3f2a0775-fea7-4f62-8bb3-e7dea198c912\",\"groupId\":\"2c42e566-34f6-419e-9be0-80bb4557a8f5\",\"tenantId\":\"9416533f-c17d-4578-90cf-42fae32d3fca\",\"physicalUnit\":\"\",\"groupKey\":\"3\",\"deviceId\":\"a759dfc5-1761-44bd-96f7-83f1370912bb\",\"typeId\":1,\"trueValueText\":\"\",\"falseValueText\":\"\",\"minValue\":null,\"maxValue\":null,\"lowerWarning\":null,\"lowerAlarm\":null,\"upperWarning\":null,\"upperAlarm\":null,\"properties\":[]},{\"tagKey\":\"var7_word\",\"tagType\":\"MeasuredValue\",\"displayName\":\"\",\"formatString\":\"\",\"dataType\":5,\"id\":\"50b6b6a1-0843-4c13-9ac3-3ce23b7fc0d4\",\"groupId\":\"2c42e566-34f6-419e-9be0-80bb4557a8f5\",\"tenantId\":\"9416533f-c17d-4578-90cf-42fae32d3fca\",\"physicalUnit\":\"u3\",\"groupKey\":\"3\",\"deviceId\":\"a759dfc5-1761-44bd-96f7-83f1370912bb\",\"typeId\":0,\"trueValueText\":\"\",\"falseValueText\":\"\",\"minValue\":null,\"maxValue\":null,\"lowerWarning\":null,\"lowerAlarm\":null,\"upperWarning\":null,\"upperAlarm\":null,\"properties\":[]},{\"tagKey\":\"var8_int\",\"tagType\":\"MeasuredValue\",\"displayName\":\"\",\"formatString\":\"\",\"dataType\":3,\"id\":\"00630333-7f95-4b75-9d90-5c8ff4c44d58\",\"groupId\":\"2c42e566-34f6-419e-9be0-80bb4557a8f5\",\"tenantId\":\"9416533f-c17d-4578-90cf-42fae32d3fca\",\"physicalUnit\":\"u4\",\"groupKey\":\"3\",\"deviceId\":\"a759dfc5-1761-44bd-96f7-83f1370912bb\",\"typeId\":0,\"trueValueText\":\"\",\"falseValueText\":\"\",\"minValue\":null,\"maxValue\":null,\"lowerWarning\":null,\"lowerAlarm\":null,\"upperWarning\":null,\"upperAlarm\":null,\"properties\":[]}],\"properties\":[],\"tagCount\":2}],\"disableBuildInCommands\":false,\"disableCustomCommands\":false,\"overrideDefaultSettings\":false,\"effectiveDisableBuildInCommands\":false,\"effectiveDisableCustomCommands\":false,\"isTelemetryTimeout\":true,\"physicalConnectionState\":0,\"properties\":[]},\"deviceId\":\"a759dfc5-1761-44bd-96f7-83f1370912bb\",\"projectId\":\"711a77f9-28f2-482c-8440-76cc51c45f1d\",\"groups\":[{\"groupKey\":\"1\",\"tagKeys\":[\"Office_temperature\",\"Coffee_Level\"],\"group\":{\"id\":\"23ecdd56-e117-4661-b962-86419fad3b58\",\"deviceId\":\"a759dfc5-1761-44bd-96f7-83f1370912bb\",\"sampleContent\":\"All\",\"samplingControl\":\"Cloud\",\"samplingIntervalType\":\"Equal\",\"tenantId\":\"9416533f-c17d-4578-90cf-42fae32d3fca\",\"name\":\"Office_Collection\",\"key\":\"1\",\"publishingRate\":60000,\"samplingRate\":30000,\"tags\":[{\"tagKey\":\"Coffee_Level\",\"tagType\":\"MeasuredValue\",\"displayName\":\"\",\"formatString\":\"#.0\",\"dataType\":9,\"id\":\"b894b8ec-813d-4265-9da8-e72376a1086b\",\"groupId\":\"23ecdd56-e117-4661-b962-86419fad3b58\",\"tenantId\":\"9416533f-c17d-4578-90cf-42fae32d3fca\",\"physicalUnit\":\"l\",\"groupKey\":\"1\",\"deviceId\":\"a759dfc5-1761-44bd-96f7-83f1370912bb\",\"typeId\":0,\"trueValueText\":\"\",\"falseValueText\":\"\",\"minValue\":null,\"maxValue\":null,\"lowerWarning\":null,\"lowerAlarm\":null,\"upperWarning\":null,\"upperAlarm\":null,\"properties\":[]},{\"tagKey\":\"Office_temperature\",\"tagType\":\"MeasuredValue\",\"displayName\":\"\",\"formatString\":\"#.0\",\"dataType\":9,\"id\":\"c76bd276-dbb5-451e-a753-079a673fa4b6\",\"groupId\":\"23ecdd56-e117-4661-b962-86419fad3b58\",\"tenantId\":\"9416533f-c17d-4578-90cf-42fae32d3fca\",\"physicalUnit\":\"C\",\"groupKey\":\"1\",\"deviceId\":\"a759dfc5-1761-44bd-96f7-83f1370912bb\",\"typeId\":0,\"trueValueText\":\"\",\"falseValueText\":\"\",\"minValue\":null,\"maxValue\":null,\"lowerWarning\":null,\"lowerAlarm\":null,\"upperWarning\":null,\"upperAlarm\":null,\"properties\":[]},{\"tagKey\":\"PFC_Type\",\"tagType\":\"MeasuredValue\",\"displayName\":\"\",\"formatString\":\"\",\"dataType\":0,\"id\":\"2e49dc30-1515-45aa-bc10-ae878837c8fb\",\"groupId\":\"23ecdd56-e117-4661-b962-86419fad3b58\",\"tenantId\":\"9416533f-c17d-4578-90cf-42fae32d3fca\",\"physicalUnit\":\"\",\"groupKey\":\"1\",\"deviceId\":\"a759dfc5-1761-44bd-96f7-83f1370912bb\",\"typeId\":0,\"trueValueText\":\"\",\"falseValueText\":\"\",\"minValue\":null,\"maxValue\":null,\"lowerWarning\":null,\"lowerAlarm\":null,\"upperWarning\":null,\"upperAlarm\":null,\"properties\":[]},{\"tagKey\":\"UtcTimestamp\",\"tagType\":\"MeasuredValue\",\"displayName\":\"Time\",\"formatString\":\"\",\"dataType\":12,\"id\":\"2ac32ef0-37f6-47d3-ac6e-fb645b18e6b8\",\"groupId\":\"23ecdd56-e117-4661-b962-86419fad3b58\",\"tenantId\":\"9416533f-c17d-4578-90cf-42fae32d3fca\",\"physicalUnit\":\"\",\"groupKey\":\"1\",\"deviceId\":\"a759dfc5-1761-44bd-96f7-83f1370912bb\",\"typeId\":1,\"trueValueText\":\"\",\"falseValueText\":\"\",\"minValue\":null,\"maxValue\":null,\"lowerWarning\":null,\"lowerAlarm\":null,\"upperWarning\":null,\"upperAlarm\":null,\"properties\":[]}],\"properties\":[],\"tagCount\":3}}]},\"fileNamePattern\":\"<p style=\\\"white-space: nowrap; overflow: hidden;\\\"><span name=\\\"dynamicTag\\\" key=\\\"deviceName\\\" contenteditable=\\\"false\\\" style=\\\"font-weight: bold;pointer-events: none\\\">{Gerätename}</span>_<span name=\\\"dynamicTag\\\" key=\\\"timeRange\\\" contenteditable=\\\"false\\\" style=\\\"font-weight: bold;pointer-events: none\\\">{Zeitraum}</span></p>\",\"jobType\":\"dataexportjob\",\"jobId\":\"96760f32-66c6-4d02-b776-52c759fcf4e2\"},\"tenantId\":\"9416533f-c17d-4578-90cf-42fae32d3fca\",\"offset\":\"00:00:00\",\"isScheduledJob\":false,\"interval\":\"01:00:00\",\"jobExpiration\":\"2019-10-23T09:18:49.5908543Z\",\"jobExecutionState\":{\"message\":\"\",\"lastOccurrence\":\"0001-01-01T00:00:00\",\"state\":0,\"csvUrl\":\"\",\"contentLength\":0.0,\"headerLength\":0.0}}}\n"
     ]
    }
   ],
   "source": [
    "\n",
    "import json\n",
    "import requests\n",
    "\n",
    "\n",
    "#________________________________________________________________________________________________\n",
    "\n",
    "myWagoCloudPassword='#Wagoseminar1'\n",
    "myWagoCloudLogin = 'seminare@wago.com'\n",
    "\n",
    "sURL_login = 'https://cloud.wago.com/api/token'\n",
    "sHEAD_login = {\"Content-type\": \"application/x-www-form-urlencoded\"}\n",
    "payload = 'grant_type=password&username='+myWagoCloudLogin+'&password='+myWagoCloudPassword\n",
    "\n",
    "ret = requests.post(sURL_login,headers=sHEAD_login,data= payload)\n",
    "print(\"Login Code:\",ret.status_code)\n",
    "json_login_data = ret.text\n",
    "obj_json_login_data = json.loads(json_login_data)\n",
    "\n",
    "sAccess_token = obj_json_login_data[\"access_token\"]\n",
    "sName = obj_json_login_data[\"name\"]\n",
    "sID = obj_json_login_data[\"Id\"]\n",
    "sTokenType = obj_json_login_data[\"token_type\"]\n",
    "sExpires_in = obj_json_login_data[\"expires_in\"]\n",
    "sHeaderEntry = {'Authorization': sTokenType+\" \"+sAccess_token,'Content-Type':'application/json'}\n",
    "#________________________________________________________________________________________________\n",
    "\n",
    "sURL_data_from_device = 'https://cloud.wago.com/API/v1/jobs'\n",
    "\n",
    "#___________________Start Edit here_____________________________________________________________________________\n",
    "\n",
    "sYear  = \"2019\"\n",
    "\n",
    "sMonth = \"08\"\n",
    "\n",
    "sDayStart = \"06\"\n",
    "sDayStop  = \"06\"\n",
    "\n",
    "sHourStart = \"07\"\n",
    "sHourStop  = \"18\"\n",
    "\n",
    "\n",
    "myTenantID =    '9416533f-c17d-4578-90cf-42fae32d3fca'  #\"793cef0d-4a52-478f-a9ae-5437a7edcfbb\"\n",
    "myTestDeviceID ='a759dfc5-1761-44bd-96f7-83f1370912bb'  #\"c3006a0a-c218-4a65-b30c-ea1d5d2188ac\" \n",
    "myProjectID =   '711a77f9-28f2-482c-8440-76cc51c45f1d'  #\"5df584bf-f25d-4dac-ab9a-2e3c93b51f7c\" \n",
    "\n",
    "tagKeys =['Office_temperature','Coffee_Level']#[\"Temperatur\",\"Spannungsgeber\",\"Netzspannung\",\"Wirkenergie\"]\n",
    "\n",
    "myGroupKeyID= '1'\n",
    "#___________________Stop Edit here_____________________________________________________________________________\n",
    "\n",
    "\n",
    "sIntervalStart =sYear+\"-\"+sMonth+\"-\"+sDayStart+\"T\"+sHourStart+\":00:00.000Z\"\n",
    "sIntervalStop  = sYear+\"-\"+sMonth+\"-\"+sDayStop+\"T\"+sHourStop+\":00:00.000Z\"\n",
    "sFileName = \"MyFile_\"+sDayStart\n",
    "sJobName = \"myCSV_ExportJob_\"+sYear+\"_\"+sMonth+\"_\"+sDayStart\n",
    "\n",
    "\n",
    "myTestDevice ={\n",
    "    \"jobName\": sJobName,\n",
    "    \"isScheduledJob\": False,\n",
    "    \"interval\": \"1:0:0\",\n",
    "    \"offset\": \"0:0:0\",\n",
    "    \"dataExportConfig\": {\n",
    "        \"intervalStart\": sIntervalStart,\n",
    "        \"intervalEnd\": sIntervalStop,\n",
    "        \"delimiter\": \"Semicolon\",\n",
    "        \"tagExportHeader\": sJobName,\n",
    "        \"additionalProperty\": \"\",\n",
    "        \"datetimeFormat\": \"MM/dd/yyyy HH:mm:ss.fff\",\n",
    "        \"fileNamePattern\": \"<p style=\\\"white-space: nowrap; overflow: hidden;\\\"><span name=\\\"dynamicTag\\\" key=\\\"deviceName\\\" contenteditable=\\\"false\\\" style=\\\"font-weight: bold;pointer-events: none\\\">{Gerätename}</span>_<span name=\\\"dynamicTag\\\" key=\\\"timeRange\\\" contenteditable=\\\"false\\\" style=\\\"font-weight: bold;pointer-events: none\\\">{Zeitraum}</span></p>\",\n",
    "        \"useDeviceTimezone\": False,\n",
    "        \"deviceReference\": {\n",
    "            \"deviceId\": myTestDeviceID,\n",
    "            \"projectId\": myProjectID,\n",
    "            \"groups\": [\n",
    "                {\n",
    "                    \"groupKey\": myGroupKeyID,\n",
    "                    \"tagKeys\": tagKeys\n",
    "                }\n",
    "            ]\n",
    "        }\n",
    "    },\n",
    "    \"tenantId\":myTenantID\n",
    "}\n",
    "json_payload_get_data_from_device = json.dumps(myTestDevice)\n",
    "ret_link_data_export_d = requests.post(sURL_data_from_device,\n",
    "                           headers=sHeaderEntry,\n",
    "                           data= json_payload_get_data_from_device) \n",
    "print(\"Export CSV File Code: \",ret_link_data_export_d.status_code)\n",
    "print(\"Export CSV File Response: \",ret_link_data_export_d.text)\n"
   ]
  },
  {
   "cell_type": "code",
   "execution_count": 3,
   "metadata": {},
   "outputs": [
    {
     "data": {
      "text/plain": [
       "'2019-08-06T07:00:00.000Z'"
      ]
     },
     "execution_count": 3,
     "metadata": {},
     "output_type": "execute_result"
    }
   ],
   "source": [
    "sIntervalStart"
   ]
  }
 ],
 "metadata": {
  "kernelspec": {
   "display_name": "Python 3",
   "language": "python",
   "name": "python3"
  },
  "language_info": {
   "codemirror_mode": {
    "name": "ipython",
    "version": 3
   },
   "file_extension": ".py",
   "mimetype": "text/x-python",
   "name": "python",
   "nbconvert_exporter": "python",
   "pygments_lexer": "ipython3",
   "version": "3.7.3"
  }
 },
 "nbformat": 4,
 "nbformat_minor": 2
}
